{
 "cells": [
  {
   "cell_type": "markdown",
   "id": "a63ca4a5",
   "metadata": {
    "id": "a63ca4a5"
   },
   "source": [
    "# Jeux Olympique analyses"
   ]
  },
  {
   "cell_type": "code",
   "execution_count": 2,
   "id": "369c6e25",
   "metadata": {
    "id": "369c6e25"
   },
   "outputs": [
    {
     "ename": "ModuleNotFoundError",
     "evalue": "No module named 'xgboost'",
     "output_type": "error",
     "traceback": [
      "\u001b[1;31m---------------------------------------------------------------------------\u001b[0m",
      "\u001b[1;31mModuleNotFoundError\u001b[0m                       Traceback (most recent call last)",
      "\u001b[1;32m<ipython-input-2-fd543a02c917>\u001b[0m in \u001b[0;36m<module>\u001b[1;34m\u001b[0m\n\u001b[0;32m      3\u001b[0m \u001b[1;32mimport\u001b[0m \u001b[0mmatplotlib\u001b[0m\u001b[1;33m.\u001b[0m\u001b[0mpyplot\u001b[0m \u001b[1;32mas\u001b[0m \u001b[0mplt\u001b[0m\u001b[1;33m\u001b[0m\u001b[1;33m\u001b[0m\u001b[0m\n\u001b[0;32m      4\u001b[0m \u001b[1;32mimport\u001b[0m \u001b[0mseaborn\u001b[0m \u001b[1;32mas\u001b[0m \u001b[0msns\u001b[0m\u001b[1;33m\u001b[0m\u001b[1;33m\u001b[0m\u001b[0m\n\u001b[1;32m----> 5\u001b[1;33m \u001b[1;32mimport\u001b[0m \u001b[0mxgboost\u001b[0m \u001b[1;32mas\u001b[0m \u001b[0mxgb\u001b[0m\u001b[1;33m\u001b[0m\u001b[1;33m\u001b[0m\u001b[0m\n\u001b[0m\u001b[0;32m      6\u001b[0m \u001b[1;33m\u001b[0m\u001b[0m\n\u001b[0;32m      7\u001b[0m \u001b[1;32mfrom\u001b[0m \u001b[0msklearn\u001b[0m\u001b[1;33m.\u001b[0m\u001b[0mpreprocessing\u001b[0m \u001b[1;32mimport\u001b[0m \u001b[0mLabelEncoder\u001b[0m\u001b[1;33m,\u001b[0m \u001b[0mOneHotEncoder\u001b[0m\u001b[1;33m\u001b[0m\u001b[1;33m\u001b[0m\u001b[0m\n",
      "\u001b[1;31mModuleNotFoundError\u001b[0m: No module named 'xgboost'"
     ]
    }
   ],
   "source": [
    "import numpy as np\n",
    "import pandas as pd\n",
    "import matplotlib.pyplot as plt\n",
    "import seaborn as sns\n",
    "import xgboost as xgb\n",
    "\n",
    "from sklearn.preprocessing import LabelEncoder, OneHotEncoder\n",
    "from sklearn.neighbors import KNeighborsClassifier\n",
    "from sklearn.linear_model import LogisticRegression\n",
    "from sklearn.model_selection import train_test_split\n",
    "from sklearn.metrics import classification_report, accuracy_score\n",
    "from sklearn.ensemble import AdaBoostClassifier, RandomForestClassifier\n",
    "from sklearn.model_selection import train_test_split, GridSearchCV, cross_val_score"
   ]
  },
  {
   "cell_type": "markdown",
   "id": "8ea047bd",
   "metadata": {
    "id": "8ea047bd"
   },
   "source": [
    "## Etude des données\n",
    "\n",
    "Il s'agit d'un ensemble de données historiques sur les Jeux olympiques modernes, comprenant tous les Jeux d'Athènes 1896 à Rio 2016. Ces données ont été éxtraite à partir de www.sports-reference.com en mai 2018.\n",
    "\n",
    "\n",
    "Notez que les Jeux d'hiver et d'été ont eu lieu la même année jusqu'en 1992. Après cela, ils ont été échelonnés de telle sorte que les Jeux d'hiver ont lieu sur un cycle de quatre ans à partir de 1994, puis les Jeux d'été en 1996, puis les Jeux d'hiver en 1998, et ainsi de suite. "
   ]
  },
  {
   "cell_type": "markdown",
   "id": "979efad9",
   "metadata": {
    "id": "979efad9"
   },
   "source": [
    "### Valeurs manquantes"
   ]
  },
  {
   "cell_type": "code",
   "execution_count": null,
   "id": "c95b3567",
   "metadata": {
    "id": "c95b3567",
    "outputId": "e8b0d4e5-e7d4-4161-cf63-8cd6a85d3292"
   },
   "outputs": [],
   "source": [
    "df_events = pd.read_csv(\"athlete_events.csv\", index_col='ID')\n",
    "number_index = df_events.index.size\n",
    "print(f'Il y à {number_index} entrés.')\n",
    "df_events.head()"
   ]
  },
  {
   "cell_type": "markdown",
   "id": "6495f71a",
   "metadata": {
    "id": "6495f71a"
   },
   "source": [
    "Nous regardons si des données sont manquantes. Nous pouvons noter qu'il y a des valeurs manquantes sur ces colonnes.\n",
    "   - Âge (9474 valeurs manquantes)\n",
    "   - Height (60171 valeurs manquantes)\n",
    "   - Weight (62875 valeurs manquantes)\n",
    "   - Medal (231333 valeurs manquantes !)\n",
    "   \n",
    "Vue que nous avons énormement de lignes concernants `Medals` il n'est pas envisagable de les supprimer, cependant, nous pouvons le faire pour les trois autres."
   ]
  },
  {
   "cell_type": "code",
   "execution_count": null,
   "id": "7b31d003",
   "metadata": {
    "id": "7b31d003",
    "outputId": "d3ce3326-c0ee-4f0e-8b61-b689539df8d3"
   },
   "outputs": [],
   "source": [
    "df_events.isnull().sum()"
   ]
  },
  {
   "cell_type": "code",
   "execution_count": null,
   "id": "e0f08ae1",
   "metadata": {
    "id": "e0f08ae1",
    "outputId": "9c2f44f4-d6bf-403e-a0c1-9fc3706c1817"
   },
   "outputs": [],
   "source": [
    "df_events.dropna(inplace=True, subset=['Age', 'Height', 'Weight'])\n",
    "df_events.isnull().sum()"
   ]
  },
  {
   "cell_type": "code",
   "execution_count": null,
   "id": "e35e1442",
   "metadata": {
    "id": "e35e1442",
    "outputId": "bed74d55-48e8-45f9-d083-c3ed1168bf5c"
   },
   "outputs": [],
   "source": [
    "print(f'Il y a maintenant {df_events.index.size} entrés, et nous avons perdu {100-(df_events.index.size*100)/number_index}% des données. Cela reste respectable pour faire des analyses dessus.')"
   ]
  },
  {
   "cell_type": "markdown",
   "id": "de8c6a59",
   "metadata": {
    "id": "de8c6a59"
   },
   "source": [
    "### Recherchons si nous avons des valeurs abérantes et expliquons les\n",
    "\n",
    "Il y a 3 principales valeurs à vérifier. L'âge, la taille et le poids.\n",
    "\n",
    "L'**âge** va de 11 à 71 ans, ce qui semble être cohérant. Un enfant et une personne agée peuvent participer aux JO sans problème.\n",
    "\n",
    "La **taille** va de 127 à 226 cm représentant des personnes de petite taille et d'autres de grande. Les grandes tailles peuvent s'expliquer aux prédispositions de chaque sport.\n",
    "\n",
    "De même pour le **poids** allant de 70 à 214 kg."
   ]
  },
  {
   "cell_type": "code",
   "execution_count": null,
   "id": "6c165fd0",
   "metadata": {
    "id": "6c165fd0",
    "outputId": "069e203e-fb11-4e08-999f-75bb1567f722"
   },
   "outputs": [],
   "source": [
    "df_events[['Age', 'Height', 'Weight']].describe()"
   ]
  },
  {
   "cell_type": "markdown",
   "id": "89921f79",
   "metadata": {
    "id": "89921f79"
   },
   "source": [
    "### Fouiller les données pour voir ce qu'on peut en faire"
   ]
  },
  {
   "cell_type": "markdown",
   "id": "eb20d000",
   "metadata": {
    "id": "eb20d000"
   },
   "source": [
    "<ins>Nombre d'athlètes par sexe</ins>\n",
    "\n",
    "En regardant le pourcentage d'hommes et de femmes qui ont participé aux jeux olympiques, on peut voir qu'il y a plus d'hommes que de femmes dans la compétition, tous sports confondus."
   ]
  },
  {
   "cell_type": "code",
   "execution_count": null,
   "id": "41214c78",
   "metadata": {
    "id": "41214c78",
    "outputId": "788781ef-663a-40cb-edeb-bceb5833c477"
   },
   "outputs": [],
   "source": [
    "df_events['Sex'].value_counts(normalize=True) * 100"
   ]
  },
  {
   "cell_type": "markdown",
   "id": "df984e68",
   "metadata": {
    "id": "df984e68"
   },
   "source": [
    "<ins>Caractéristiques physiques</ins>\n",
    "\n",
    "En faisant une moyenne sur les caracteristiques physiques des sportives des hommes et des femmes qui ont participé aux jeux olympiques, on peut noter que les femmes sont globalement plus jeunes, plus petites et moins lourdes que les hommes."
   ]
  },
  {
   "cell_type": "code",
   "execution_count": null,
   "id": "d2027ebd",
   "metadata": {
    "id": "d2027ebd",
    "outputId": "bbe33fec-3ac3-4e96-ca9b-afdbc325c9b4"
   },
   "outputs": [],
   "source": [
    "df_events[['Sex', 'Age', 'Height', 'Weight']].groupby(['Sex']).mean()"
   ]
  },
  {
   "cell_type": "markdown",
   "id": "5a0825dd",
   "metadata": {
    "id": "5a0825dd"
   },
   "source": [
    "<ins>Nombre de médailles par sexe</ins>\n",
    "\n",
    "Les femmes ont deux fois moins de médailles que les hommes. Cela peut s'expliquer par le nombre d'athlètes féminines inférieur à celui des hommes et également par le nombre d'épreuves différentes selon le sexe."
   ]
  },
  {
   "cell_type": "code",
   "execution_count": null,
   "id": "c8687466",
   "metadata": {
    "id": "c8687466",
    "outputId": "e1ebb7ca-61cb-4410-d811-19f9961c281a"
   },
   "outputs": [],
   "source": [
    "df_events[['Sex', 'Medal']].groupby('Sex').count()"
   ]
  },
  {
   "cell_type": "markdown",
   "id": "d75e2379",
   "metadata": {
    "id": "d75e2379"
   },
   "source": [
    "<ins>Nombre de médailles gagnées en fonction du sexe</ins>\n",
    "\n",
    "Lors des débuts des Jeux Olympiques, les femmes ne gagnaient pas de médailles et il n'y avait pas beaucoup de sports aux Jeux Olympiques. En 2016, il y plus de sports et les femmes ont autant de médailles que les hommes."
   ]
  },
  {
   "cell_type": "code",
   "execution_count": null,
   "id": "31b58698",
   "metadata": {
    "id": "31b58698",
    "outputId": "d2d4d5ac-626f-41f7-b1b1-51e9cdbc2fe3"
   },
   "outputs": [],
   "source": [
    "df_events[['Year', 'Sex', 'Medal']].groupby(['Year', 'Sex']).count()"
   ]
  },
  {
   "cell_type": "markdown",
   "id": "8cb9ceae",
   "metadata": {
    "id": "8cb9ceae"
   },
   "source": [
    "<ins>Réprésentation de l'âge des sportifs</ins>\n",
    "\n",
    "Les femmes sont un peu plus jeunes que les hommes et deux fois moins nombreuses."
   ]
  },
  {
   "cell_type": "code",
   "execution_count": null,
   "id": "b55be417",
   "metadata": {
    "id": "b55be417",
    "outputId": "57f1acce-47ac-46d5-ed09-f302e104255e"
   },
   "outputs": [],
   "source": [
    "grouped = df_events.groupby('Sex')\n",
    "for group in grouped:\n",
    "  plt.hist(group[1].Age, bins=60,  alpha=.7)"
   ]
  },
  {
   "cell_type": "markdown",
   "id": "9856ce12",
   "metadata": {
    "id": "9856ce12"
   },
   "source": [
    "<ins>Nombre total de médailles par pays</ins>"
   ]
  },
  {
   "cell_type": "code",
   "execution_count": null,
   "id": "0fc213eb",
   "metadata": {
    "id": "0fc213eb",
    "outputId": "b246c0e3-02b6-4726-d9b5-db1d85a838f4"
   },
   "outputs": [],
   "source": [
    "df_events[['NOC', 'Medal']].groupby('NOC').count()"
   ]
  },
  {
   "cell_type": "code",
   "execution_count": null,
   "id": "31519146",
   "metadata": {
    "id": "31519146",
    "outputId": "f3153be1-0ee7-4dc8-b69c-4953f0af557c"
   },
   "outputs": [],
   "source": [
    "df_events[['NOC', 'Medal']].groupby('NOC').count().describe()"
   ]
  },
  {
   "cell_type": "markdown",
   "id": "9f9d559d",
   "metadata": {
    "id": "9f9d559d"
   },
   "source": [
    "<ins>Le sport avec le plus de médailles</ins>"
   ]
  },
  {
   "cell_type": "code",
   "execution_count": null,
   "id": "e0620ae3",
   "metadata": {
    "id": "e0620ae3",
    "outputId": "6339f1c2-fc6e-47b0-fd30-e24dec190419"
   },
   "outputs": [],
   "source": [
    "df2 = df_events.groupby('Sport').count()\n",
    "df2['Medal'].idxmax()"
   ]
  },
  {
   "cell_type": "markdown",
   "id": "c6d6e47b",
   "metadata": {
    "id": "c6d6e47b"
   },
   "source": [
    "<ins>Les athlètes ayant gagnés une médaille d'or</ins>"
   ]
  },
  {
   "cell_type": "code",
   "execution_count": null,
   "id": "f77f3af5",
   "metadata": {
    "id": "f77f3af5",
    "outputId": "a41d8faa-0c02-45fb-98f0-ec1e6bab91bc"
   },
   "outputs": [],
   "source": [
    "df_events[df_events['Medal'] == \"Gold\"]"
   ]
  },
  {
   "cell_type": "markdown",
   "id": "b656b63f",
   "metadata": {
    "id": "b656b63f"
   },
   "source": [
    "<ins>Les médianes de la taille et du poids</ins>"
   ]
  },
  {
   "cell_type": "code",
   "execution_count": null,
   "id": "c57c29c6",
   "metadata": {
    "id": "c57c29c6",
    "outputId": "3015d1e1-81d1-49b0-c728-8f86e82bc0ca"
   },
   "outputs": [],
   "source": [
    "df_events[['Height', 'Weight']].median()"
   ]
  },
  {
   "cell_type": "markdown",
   "id": "2069a950",
   "metadata": {
    "id": "2069a950"
   },
   "source": [
    "<ins>Nombre de médailles par sexe depuis 1900</ins>\n",
    "\n",
    "On peut observer plusieurs choses :\n",
    " - de 1900 à 1950, il n'y a pas beaucoup de sports\n",
    " - les femmes ont moins de médailles\n",
    " - En 1990, les jeux olympique d'hiver apparaissent (À prendre en compte lors de l'apprentisage)"
   ]
  },
  {
   "cell_type": "code",
   "execution_count": null,
   "id": "cd591d05",
   "metadata": {
    "id": "cd591d05",
    "outputId": "8599a8a7-5a71-40db-e255-f7e6023b2440"
   },
   "outputs": [],
   "source": [
    "dfH = df_events[(df_events['Medal'] != \"No Medal\") & (df_events['Sex'] == \"M\")][['Year', 'Medal']]\n",
    "dfH = dfH.groupby(['Year']).count()\n",
    "\n",
    "dfF = df_events[(df_events['Medal'] != \"No Medal\") & (df_events['Sex'] == \"F\")][['Year', 'Medal']]\n",
    "dfF = dfF.groupby(['Year']).count()\n",
    "\n",
    "plt.scatter(dfH.index, dfH['Medal'])\n",
    "plt.scatter(dfF.index, dfF['Medal'])\n",
    "plt.show()"
   ]
  },
  {
   "cell_type": "markdown",
   "id": "9b0147b7",
   "metadata": {
    "id": "9b0147b7"
   },
   "source": [
    "### Chercher à tâtons n'est pas très productif, voyons du coté des outils généraux"
   ]
  },
  {
   "cell_type": "markdown",
   "id": "a1226890",
   "metadata": {
    "id": "a1226890"
   },
   "source": [
    "Sur cette vue on peut remarquer qu'il y a de plus en plus de femmes qui participent aux jeux olympiques au fur et à mesure des années."
   ]
  },
  {
   "cell_type": "code",
   "execution_count": null,
   "id": "936da196",
   "metadata": {
    "id": "936da196",
    "outputId": "99d599fa-c0ad-44f7-d5a3-06c40c0e41f5"
   },
   "outputs": [],
   "source": [
    "sns.pairplot(df_events, hue = 'Sex')\n",
    "plt.show()"
   ]
  },
  {
   "cell_type": "markdown",
   "id": "RjXFeV5klfSv",
   "metadata": {
    "id": "RjXFeV5klfSv"
   },
   "source": [
    "De plus, avec la matrice de correlation, on remarque que la taille a une bonne relation avec le poids. Ce qui peut s'expliquer par une bonne condition physique."
   ]
  },
  {
   "cell_type": "code",
   "execution_count": null,
   "id": "807bcb38",
   "metadata": {
    "id": "807bcb38",
    "outputId": "08816f61-27fd-4214-df84-a8752f20e688"
   },
   "outputs": [],
   "source": [
    "sns.heatmap(df_events.corr())\n",
    "plt.show()"
   ]
  },
  {
   "cell_type": "markdown",
   "id": "28rFp_0xlqH4",
   "metadata": {
    "id": "28rFp_0xlqH4"
   },
   "source": [
    "On remarque même une tendance linéaire entre la taille et le poids avec quelques valeurs abérentes aux extrémités, ce qui pourrait perturber l'apprentissage du futur modèle. On remarque même quelques valeurs abérentes sur l'âge."
   ]
  },
  {
   "cell_type": "code",
   "execution_count": null,
   "id": "x0BH9NeclzWV",
   "metadata": {
    "id": "x0BH9NeclzWV",
    "outputId": "ba2cc8e9-6727-4927-fed8-48f6f4f97098"
   },
   "outputs": [],
   "source": [
    "sns.jointplot(data=df_events, x=\"Height\", y=\"Weight\")\n",
    "plt.show()\n",
    "sns.boxplot(data=df_events, x=\"Height\")\n",
    "plt.show()\n",
    "sns.boxplot(data=df_events, x=\"Weight\")\n",
    "plt.show()\n",
    "sns.boxplot(data=df_events, x=\"Age\")\n",
    "plt.show()"
   ]
  },
  {
   "cell_type": "markdown",
   "id": "89ccfa8e",
   "metadata": {
    "id": "89ccfa8e"
   },
   "source": [
    "## Apprentissage supervisé\n",
    "\n",
    "### Thématique\n",
    "\n",
    "Prédire avec la **taille**, le **poids** et l'**âge**, le **sport** de prédilection d'un sportif\n",
    "\n",
    "### Préparons notre dataset\n",
    "\n",
    "Tout d'abord, avant de commencer sur le modèle, il faut préparer les données. Il y a beaucoup de données textuelles qui représentent des classes. Comme vu dans la partie \"étude des données\", il faut nettoyer le dataset pour enlever toutes les abérations, valeurs manquantes et inutiles. Pour cela, nous allons filtrer les colonnes, supprimer les lignes où il manque la taille, le poids et l'âge avec `dropna` et encoder les classifications avec `LabelEncoder`."
   ]
  },
  {
   "cell_type": "code",
   "execution_count": null,
   "id": "414341ad",
   "metadata": {
    "colab": {
     "base_uri": "https://localhost:8080/",
     "height": 206
    },
    "id": "414341ad",
    "outputId": "f7c3a485-5be6-405b-a548-b99330a3dbd2"
   },
   "outputs": [],
   "source": [
    "df_events = pd.read_csv(\"athlete_events.csv\")                                   # Charge le dataset\n",
    "\n",
    "df_events.dropna(inplace=True, subset=['Age', 'Height', 'Weight'])            # Enleve les ligne altéré\n",
    "df_events = df_events[['Sex', 'Age', 'Height', 'Weight', 'Team', 'Sport']]    # Garde les cololones utiles\n",
    "\n",
    "df_events = df_events[(df_events['Age'] < 85) & (df_events['Weight'] < 200)]  # Filtre les abération pour l'age et le poids\n",
    "\n",
    "label_encoder_team = LabelEncoder()\n",
    "df_events['Team'] = label_encoder_team.fit_transform(df_events['Team'])         # Transforme les Teams en nombres\n",
    "label_encoder_sport = LabelEncoder()\n",
    "df_events['Sport'] = label_encoder_sport.fit_transform(df_events['Sport'])      # Transforme les Sports en nombres\n",
    "label_encoder_sex = LabelEncoder()\n",
    "df_events['Sex'] = label_encoder_sex.fit_transform(df_events['Sex'])            # Transforme les Sex en nombres\n",
    "\n",
    "df_events.head()"
   ]
  },
  {
   "cell_type": "markdown",
   "id": "4b1c9a25",
   "metadata": {
    "id": "4b1c9a25"
   },
   "source": [
    "On peut voir ici qu'il y a une forte correlation entre le taille et le poids. De plus, on remarque aussi une petite correlation avec le sexe, la taille et le poids. On peut faire le rapprochement avec la condition physique des femmes et des hommes qui diffère."
   ]
  },
  {
   "cell_type": "code",
   "execution_count": null,
   "id": "ef2a0c4b",
   "metadata": {
    "colab": {
     "base_uri": "https://localhost:8080/",
     "height": 269
    },
    "id": "ef2a0c4b",
    "outputId": "b1b095fc-5b39-400c-e109-63397ddc4036"
   },
   "outputs": [],
   "source": [
    "sns.heatmap(df_events.corr())\n",
    "plt.show()"
   ]
  },
  {
   "cell_type": "markdown",
   "id": "a6b443bc",
   "metadata": {
    "id": "a6b443bc"
   },
   "source": [
    "Ici on va préparer deux jeux de données, le premier pour entraîner le modèle, et le second pour tester si notre modèle a bien appris."
   ]
  },
  {
   "cell_type": "code",
   "execution_count": null,
   "id": "2d44015a",
   "metadata": {
    "id": "2d44015a"
   },
   "outputs": [],
   "source": [
    "Y = df_events['Sport']\n",
    "X = df_events.drop('Sport', axis=1)\n",
    "\n",
    "X_train, X_test, Y_train, Y_test = train_test_split(X, Y, shuffle=True, train_size=0.8, random_state=42)"
   ]
  },
  {
   "cell_type": "markdown",
   "id": "3d782158",
   "metadata": {
    "id": "3d782158"
   },
   "source": [
    "### Premier modèle: KNeighborsClassifier\n",
    "\n",
    "Nous avons choisi comme premier modèle le KNeighborsClassifier, car son fonctionnement est assez simple. K Nearest Neighbor (KNN) est un algorithme d'apprentissage automatique très simple, facile à comprendre, polyvalent et l'un des plus utilisés pour des problèmes de classification et de régression qui sont basés sur une approche de similarité des caractéristiques."
   ]
  },
  {
   "cell_type": "code",
   "execution_count": null,
   "id": "8950705b",
   "metadata": {
    "colab": {
     "base_uri": "https://localhost:8080/"
    },
    "id": "8950705b",
    "outputId": "31bcdce6-b577-4b74-e0d7-9029c9357a2c"
   },
   "outputs": [],
   "source": [
    "model_kn1 = KNeighborsClassifier(n_neighbors=1)\n",
    "model_kn1.fit(X_train, Y_train)\n",
    "print(model_kn1.score(X_train, Y_train))\n",
    "accuracy = accuracy_score(Y_test,model_kn1.predict(X_test))\n",
    "print('Accuracy (%): ', accuracy * 100)\n",
    "print(classification_report(Y_test,model_kn1.predict(X_test)))"
   ]
  },
  {
   "cell_type": "markdown",
   "id": "87d1e4b0",
   "metadata": {
    "id": "87d1e4b0"
   },
   "source": [
    "Dans un premier temps, nous avons décider de mettre l'hyperparamètre *n_neighbors* à 1 et nous avons trouvé un score de 94.12 ! Nous nous sommes dit que la valeur était trop haute pour un premier apprentissage. Nous avons donc choisi de prendre la racine du nombre de colonnes du dataset, soit $\\sqrt{6}\\approx2$. De plus, on remarque que la précision dans l'ensemble de test chute énormement."
   ]
  },
  {
   "cell_type": "code",
   "execution_count": null,
   "id": "2225bb4e",
   "metadata": {
    "colab": {
     "base_uri": "https://localhost:8080/"
    },
    "id": "2225bb4e",
    "outputId": "65b882c1-f33f-41c7-cfe3-c95ba8408daa"
   },
   "outputs": [],
   "source": [
    "model_kn2 = KNeighborsClassifier(n_neighbors=2)\n",
    "model_kn2.fit(X_train, Y_train)\n",
    "model_kn2.score(X_train, Y_train)"
   ]
  },
  {
   "cell_type": "markdown",
   "id": "d1a10397",
   "metadata": {
    "id": "d1a10397"
   },
   "source": [
    "Nous avons une précision de 44.21% et nous pouvons voir que les prédictions sont assez hasardeuses. Pour palier à cela, nous avons plusieurs options:\n",
    " - Changer de modèle\n",
    " - Classifier des données (Age, Team, Sport)\n",
    " - Normaliser les données \n",
    " \n",
    "Nous n'allons pas normaliser les données car cela n'aidera pas nos modèles.\n",
    "Cependant, afin d'aider le modèle à classifier les differents types de sports, nous pouvons appliquer un encodage **one hot** pour supprimmer les relations d'ordre."
   ]
  },
  {
   "cell_type": "code",
   "execution_count": null,
   "id": "5b33d81f",
   "metadata": {
    "colab": {
     "base_uri": "https://localhost:8080/"
    },
    "id": "5b33d81f",
    "outputId": "9c1e6b1a-3c76-40f0-8350-1ada5ac6c4da"
   },
   "outputs": [],
   "source": [
    "accuracy = accuracy_score(Y_test,model_kn2.predict(X_test))\n",
    "print('Accuracy (%): ', accuracy * 100)\n",
    "print(classification_report(Y_test,model_kn2.predict(X_test)))"
   ]
  },
  {
   "cell_type": "markdown",
   "id": "7570f072",
   "metadata": {
    "id": "7570f072"
   },
   "source": [
    "### Deuxième modèle AdaBoostClassifier\n",
    "\n",
    "Nous avons pris un autre modèle de classification `AdaBoostClassifier` avec le même dataset pour comparer les performances. Les résultats sont très décevants. Le modèle n'arrive pas à prédire les différents sports comme le montre la précision des différentes classes qui est autour de 0%."
   ]
  },
  {
   "cell_type": "code",
   "execution_count": null,
   "id": "0dcb679b",
   "metadata": {
    "id": "0dcb679b",
    "outputId": "b60c9771-94d8-4a5d-8cc7-90c534b218d5"
   },
   "outputs": [],
   "source": [
    "clf = AdaBoostClassifier(n_estimators=100, random_state=0)\n",
    "clf.fit(X_train, Y_train)\n",
    "clf.score(X_train,Y_train)\n",
    "\n",
    "accuracy = accuracy_score(Y_test,clf.predict(X_test))\n",
    "\n",
    "print('Accuracy (%): ', accuracy * 100)\n",
    "print(classification_report(Y_test,clf.predict(X_test)))"
   ]
  },
  {
   "cell_type": "markdown",
   "id": "2808f4f0",
   "metadata": {
    "id": "2808f4f0"
   },
   "source": [
    "### Modification du dataset pour KNeighborsClassifier\n",
    "\n",
    "Etant donné que le premier modèle n'est pas optimal, nous avons modifié le dataset. Nous avons donc fait le filtrage habituel, mais, nous avons utilisé l'encodage **One Hot** sur toutes les catégories du dataset. Cependant, le modèle a perdu en précision, dû au nombre excessif de colones produites par le One Hot. Soit autant de colone qu'il y a de pays et de sport."
   ]
  },
  {
   "cell_type": "code",
   "execution_count": null,
   "id": "c965dc4a",
   "metadata": {
    "id": "c965dc4a"
   },
   "outputs": [],
   "source": [
    "df_events = pd.read_csv(\"athlete_events.csv\")                                 # Charge le dataset\n",
    "\n",
    "df_events.dropna(inplace=True, subset=['Age', 'Height', 'Weight'])            # Enleve les ligne useless\n",
    "df_events = df_events[['Sex', 'Age', 'Height', 'Weight', 'Team', 'Sport']]    # Garde les cololones utiles\n",
    "\n",
    "df_events = df_events[(df_events['Age'] < 85) & (df_events['Weight'] < 200)]  # Filtre les abération pour l'age et le poids\n",
    "\n",
    "def cat_age(age):\n",
    "    if 0 < age < 18: return \"jeune\"\n",
    "    if 18 < age < 30: return \"normal\"\n",
    "    return \"vieux\"\n",
    "\n",
    "df_events['Age'] = df_events['Age'].apply(cat_age)                 # Catégorise l'age en 3 classe\n",
    "df_2_X = pd.get_dummies(df_events,columns=['Sex', 'Age', 'Team'])  # Encode le Sex, Age, Team en OneHot\n",
    "df_2_X = df_2_X.drop(['Sport'], axis=1)\n",
    "\n",
    "df_2_Y = pd.get_dummies(df_events[['Sport']],columns=['Sport'])"
   ]
  },
  {
   "cell_type": "code",
   "execution_count": null,
   "id": "8af6b812",
   "metadata": {
    "colab": {
     "base_uri": "https://localhost:8080/"
    },
    "id": "8af6b812",
    "outputId": "711f84f7-6623-4a94-919e-8d2c2ef96577"
   },
   "outputs": [],
   "source": [
    "X_train, X_test, Y_train, Y_test = train_test_split(df_2_X, df_2_Y, shuffle=True, train_size=0.8, random_state=42)\n",
    "\n",
    "model = KNeighborsClassifier(n_neighbors=2)\n",
    "model.fit(X_train, Y_train)\n",
    "model.score(X_train, Y_train)"
   ]
  },
  {
   "cell_type": "code",
   "execution_count": null,
   "id": "5eae1120",
   "metadata": {
    "id": "5eae1120",
    "outputId": "ca69507c-3211-47db-d7b1-038f120e02a9"
   },
   "outputs": [],
   "source": [
    "accuracy = accuracy_score(Y_test,model.predict(X_test))\n",
    "\n",
    "print('Accuracy (%): ', accuracy * 100)\n",
    "print(classification_report(Y_test,model.predict(X_test)))"
   ]
  },
  {
   "cell_type": "markdown",
   "id": "2c941617",
   "metadata": {
    "id": "2c941617"
   },
   "source": [
    "### Random Forest et moins de paramètres\n",
    "\n",
    "Nous avons changé de modèle en utilisant les \"Random Forest\" pour minimiser la variance. Nous avons supprimer les lignes où les valeurs sur les colonnes Age, Height et Weight sont manquantes et filtrer les colonnes utiles pour éliminer les valeurs abérantes.\n",
    "\n",
    "Nous avons choisi d'encoder la colonne Team avec des nombres pour réduire le nombre de colones obtenues après l'encodage One Hot et nous avons encodé l'âge et le sexe avec One Hot.\n",
    "\n",
    "Ensuite, nous avons généré les trainset et le testset, puis entraîner le modèle, et nous avons réussi à passer la barre des 80% de précision ! Cependant, quand on regarde le rapport de classification, nous pouvons remarquer qu'il y a quelques incohérences sur la précision et le recall.\n",
    "\n",
    "Pour palier à cela, nous allons classifier les différents sports pour avoir moins de classes à prédire et pour aider le modèle à se concentrer sur celles-ci."
   ]
  },
  {
   "cell_type": "code",
   "execution_count": null,
   "id": "3be98c8c",
   "metadata": {
    "colab": {
     "base_uri": "https://localhost:8080/",
     "height": 204
    },
    "id": "3be98c8c",
    "outputId": "7f76e470-45f2-465d-902b-5cc05b115cdf"
   },
   "outputs": [],
   "source": [
    "df_events = pd.read_csv(\"athlete_events.csv\")                                 # Charge le dataset\n",
    "\n",
    "df_events.dropna(inplace=True, subset=['Age', 'Height', 'Weight'])            # Enleve les ligne useless\n",
    "df_events = df_events[['Sex', 'Age', 'Height', 'Weight', 'Team', 'Sport']]    # Garde les cololones utiles\n",
    "\n",
    "df_events = df_events[(df_events['Age'] < 85) & (df_events['Weight'] < 200)]  # Filtre les abération pour l'age et le poids\n",
    "\n",
    "label_encoder_team = LabelEncoder()\n",
    "df_events['Team'] = label_encoder_team.fit_transform(df_events['Team'])\n",
    "label_encoder_sport = LabelEncoder()\n",
    "df_events['Sport'] = label_encoder_sport.fit_transform(df_events['Sport'])\n",
    "label_encoder_sex = LabelEncoder()\n",
    "df_events['Sex'] = label_encoder_sex.fit_transform(df_events['Sex'])\n",
    "\n",
    "def cat_age(age):\n",
    "    if 0 < age < 18: return \"jeune\"\n",
    "    if 18 < age < 30: return \"normal\"\n",
    "    return \"vieux\"\n",
    "\n",
    "df_events['Age'] = df_events['Age'].apply(cat_age)\n",
    "\n",
    "Y = df_events['Sport']\n",
    "X = pd.get_dummies(df_events,columns=['Sex', 'Age'])\n",
    "\n",
    "X_train, X_test, Y_train, Y_test = train_test_split(X, Y, shuffle=True, train_size=0.8, random_state=42)\n",
    "X.head()"
   ]
  },
  {
   "cell_type": "code",
   "execution_count": null,
   "id": "942d0c98",
   "metadata": {
    "colab": {
     "base_uri": "https://localhost:8080/"
    },
    "id": "942d0c98",
    "outputId": "6068e7ce-a35d-4c95-ac8d-dd8d9177c834"
   },
   "outputs": [],
   "source": [
    "classifier = RandomForestClassifier(n_estimators=100, max_depth=10, random_state=42)\n",
    "classifier.fit(X_train, Y_train)"
   ]
  },
  {
   "cell_type": "code",
   "execution_count": null,
   "id": "7733508a",
   "metadata": {
    "colab": {
     "base_uri": "https://localhost:8080/"
    },
    "id": "7733508a",
    "outputId": "8fd48894-0337-4f2a-c115-345a16197c61"
   },
   "outputs": [],
   "source": [
    "predicted_classes = classifier.predict(X_test)\n",
    "accuracy = accuracy_score(Y_test,predicted_classes)\n",
    "\n",
    "print('Accuracy (%): ', accuracy * 100)\n",
    "print(classification_report(Y_test,predicted_classes))"
   ]
  },
  {
   "cell_type": "markdown",
   "id": "auQH-CdYCi_G",
   "metadata": {
    "id": "auQH-CdYCi_G"
   },
   "source": [
    "### Changement de thématique\n",
    "\n",
    "Nous avons décidé de changer de thématique pour facilier de travail du modèle à classifier les différents sports tout en gardant un rapport avec la précédente problématique.\n",
    "\n",
    "~Prédire avec la **taille**, le **poids** et l'**âge**, le **sport** de prédilection d'une personne.~\n",
    "\n",
    "Prédire avec la **taille**, le **poids** et l'**âge**, le **type de sport (individuel ou collectif)** d'une personne.\n",
    "\n",
    "Pour classifier les sports, nous avons récupéré tous les sports du DataFrame, enlevé les doublons et transformé cette liste en un dictionnaire associatif. De plus, on a enlevé l'encodage de l'âge car ce dernier ne faisait aucune différence. Cette solution ayant été effectuée sur les données des JO jusqu'ç 2018, elle risque de ne pas être valable pour les prochains JO, des sports pouvant être supprimer ou ajouter au fil du temps.\n",
    "\n",
    " - 0: sport individuel\n",
    " - 1: sport collectif"
   ]
  },
  {
   "cell_type": "code",
   "execution_count": null,
   "id": "l0jMQtPlDl8n",
   "metadata": {
    "id": "l0jMQtPlDl8n"
   },
   "outputs": [],
   "source": [
    "df_events = pd.read_csv(\"athlete_events.csv\")                               # Charge le dataset\n",
    "sports = df_events.Sport.values.tolist()                                    # get sport value\n",
    "sports = list(dict.fromkeys(sports))                                        # delete doublons \n",
    "sport_dictionary = dict.fromkeys(sports, 0)                                 # tranform to dict\n",
    "\n",
    "def sport_to_group(sport):\n",
    "    return {\n",
    "     'Basketball': 1,\n",
    "     'Judo': 0,\n",
    "     'Football': 1,\n",
    "     'Tug-Of-War': 1,\n",
    "     'Speed Skating': 0,\n",
    "     'Cross Country Skiing': 0,\n",
    "     'Athletics': 0,\n",
    "     'Ice Hockey': 1,\n",
    "     'Swimming': 0,\n",
    "     'Badminton': 0,\n",
    "     'Sailing': 1,\n",
    "     'Biathlon': 0,\n",
    "     'Gymnastics': 0,\n",
    "     'Art Competitions': 0,\n",
    "     'Alpine Skiing': 0,\n",
    "     'Handball': 1,\n",
    "     'Weightlifting': 0,\n",
    "     'Wrestling': 0,\n",
    "     'Luge': 0,\n",
    "     'Water Polo': 1,\n",
    "     'Hockey': 1,\n",
    "     'Rowing': 1,\n",
    "     'Bobsleigh': 1,\n",
    "     'Fencing': 0,\n",
    "     'Equestrianism': 0,\n",
    "     'Shooting': 0,\n",
    "     'Boxing': 0,\n",
    "     'Taekwondo': 0,\n",
    "     'Cycling': 0,\n",
    "     'Diving': 0,\n",
    "     'Canoeing': 0,\n",
    "     'Tennis': 0,\n",
    "     'Modern Pentathlon': 0,\n",
    "     'Figure Skating': 0,\n",
    "     'Golf': 0,\n",
    "     'Softball': 1,\n",
    "     'Archery': 0,\n",
    "     'Volleyball': 1,\n",
    "     'Synchronized Swimming': 1,\n",
    "     'Table Tennis': 0,\n",
    "     'Nordic Combined': 0,\n",
    "     'Baseball': 1,\n",
    "     'Rhythmic Gymnastics': 0,\n",
    "     'Freestyle Skiing': 0,\n",
    "     'Rugby Sevens': 1,\n",
    "     'Trampolining': 0,\n",
    "     'Beach Volleyball': 1,\n",
    "     'Triathlon': 0,\n",
    "     'Ski Jumping': 0,\n",
    "     'Curling': 1,\n",
    "     'Snowboarding': 0,\n",
    "     'Rugby': 1,\n",
    "     'Short Track Speed Skating': 0,\n",
    "     'Skeleton': 0,\n",
    "     'Lacrosse': 1,\n",
    "     'Polo': 1,\n",
    "     'Cricket': 1,\n",
    "     'Racquets': 0,\n",
    "     'Motorboating': 0,\n",
    "     'Military Ski Patrol': 0,\n",
    "     'Croquet': 0,\n",
    "     'Jeu De Paume': 0,\n",
    "     'Roque': 0,\n",
    "     'Alpinism': 0,\n",
    "     'Basque Pelota': 1,\n",
    "     'Aeronautics': 0\n",
    "    }[sport]"
   ]
  },
  {
   "cell_type": "markdown",
   "id": "DsyIJrNDEh_Y",
   "metadata": {
    "id": "DsyIJrNDEh_Y"
   },
   "source": [
    "Reprenons le code de la Random Forest avec notre nouvelle colonne *sport*. Nous avons aussi enlevé l'encodage One Hot pour l'âge et le sexe car il avait un impact négligeable sur le résultat. Dans le rapport de classification nous pouvons observer que :\n",
    "\n",
    "#### classe 0\n",
    " - Quand on prédit une valeur, elle a 83% de chance d'être bien prédite\n",
    " - Quand on prédit une valeur, elle a 97% de chance d'être dans la bonne classe\n",
    " \n",
    "#### classe 1\n",
    " - Quand on prédit une valeur, elle a 70% de chance d'être bien prédite\n",
    " - Quand on prédit une valeur, elle a 26% de chance d'être dans la bonne classe\n",
    " \n",
    "Il faut noter que la classe 1 a un écart non négligeable avec le support, ses résultats ne sont donc pas représentatifs de la disparité entre les deux groupes. Pour résoudre ce déséquilibre, nous pouvons soit rajouter des éléments dans la case 1 (créer des nouveaux vecteurs) ou supprimer des vecteurs dans la classe 0. Nous choisissons de laisser la chose telle qu'elle est et d'utiliser un modèle plus performant avec xgboost pour réduire la variance. "
   ]
  },
  {
   "cell_type": "code",
   "execution_count": null,
   "id": "YEqb4Aa8FA7S",
   "metadata": {
    "colab": {
     "base_uri": "https://localhost:8080/",
     "height": 419
    },
    "id": "YEqb4Aa8FA7S",
    "outputId": "5009eb5b-cea3-4c8b-ff8e-aebc1c1d5934"
   },
   "outputs": [],
   "source": [
    "df_events = pd.read_csv(\"athlete_events.csv\")                               # Charge le dataset\n",
    "df_events.dropna(inplace=True, subset=['Age', 'Height', 'Weight'])          # Enleve les ligne useless\n",
    "df_events = df_events[['Sex', 'Age', 'Height', 'Weight', 'Team', 'Sport']]  # Garde les cololones utiles\n",
    "\n",
    "label_encoder_team = LabelEncoder()\n",
    "df_events['Team'] = label_encoder_team.fit_transform(df_events['Team'])\n",
    "label_encoder_sex = LabelEncoder()\n",
    "df_events['Sex'] = label_encoder_sex.fit_transform(df_events['Sex'])\n",
    "\n",
    "df_events['Sport'] = df_events['Sport'].apply(sport_to_group)\n",
    "\n",
    "Y = df_events['Sport']\n",
    "X = df_events[[\"Age\", \"Weight\", \"Height\", \"Team\", \"Sex\"]]\n",
    "\n",
    "X_train, X_test, Y_train, Y_test = train_test_split(X, Y, shuffle=True, train_size=0.8, random_state=42)\n",
    "X_train"
   ]
  },
  {
   "cell_type": "code",
   "execution_count": null,
   "id": "sfeN_10EFNPv",
   "metadata": {
    "colab": {
     "base_uri": "https://localhost:8080/"
    },
    "id": "sfeN_10EFNPv",
    "outputId": "e0ec6031-f54c-4aa3-e819-5a49f27a5541"
   },
   "outputs": [],
   "source": [
    "classifier = RandomForestClassifier(n_estimators=100, max_depth=10, random_state=42)\n",
    "classifier.fit(X_train, Y_train)"
   ]
  },
  {
   "cell_type": "code",
   "execution_count": null,
   "id": "EgZqz0EGFo6G",
   "metadata": {
    "colab": {
     "base_uri": "https://localhost:8080/"
    },
    "id": "EgZqz0EGFo6G",
    "outputId": "3ce62957-9478-4a85-a0bd-40dc48b1be43"
   },
   "outputs": [],
   "source": [
    "predicted_classes = classifier.predict(X_test)\n",
    "accuracy = accuracy_score(Y_test,predicted_classes)\n",
    "\n",
    "print('Accuracy (%): ', accuracy * 100)\n",
    "print(classification_report(Y_test,predicted_classes))"
   ]
  },
  {
   "cell_type": "markdown",
   "id": "qoLWzhppuZvZ",
   "metadata": {
    "id": "qoLWzhppuZvZ"
   },
   "source": [
    "Nous venons de tester le modèle Random Forest qui a pour but de minimiser la variance. Maintenant, nous allons essayer avec xgBoost qui va minimiser la variance avec des modèles faibles et réduire le biais."
   ]
  },
  {
   "cell_type": "code",
   "execution_count": null,
   "id": "4a1d0c84",
   "metadata": {
    "colab": {
     "base_uri": "https://localhost:8080/"
    },
    "id": "4a1d0c84",
    "outputId": "fddedf82-f5ee-412d-853d-470cf3f3b7a2"
   },
   "outputs": [],
   "source": [
    "param = {\n",
    "    'max_depth':4, \n",
    "    'eta':0.2, \n",
    "    'objective':'binary:logistic',\n",
    "    'n_estimators': 250,\n",
    "    'learning_rate': 0.05,\n",
    "    'gamma': 0.1\n",
    "}\n",
    "booster = xgb.XGBClassifier(**param)\n",
    "booster.fit(X_train, Y_train)\n",
    "print(booster.score(X_train, Y_train))"
   ]
  },
  {
   "cell_type": "code",
   "execution_count": null,
   "id": "dpM_mUGwTTK3",
   "metadata": {
    "colab": {
     "base_uri": "https://localhost:8080/"
    },
    "id": "dpM_mUGwTTK3",
    "outputId": "67cf5b6d-83be-46fc-a3f0-2b87e27d1d48"
   },
   "outputs": [],
   "source": [
    "predicted_classes = booster.predict(X_test)\n",
    "accuracy = accuracy_score(Y_test,predicted_classes)\n",
    "\n",
    "print('Accuracy (%): ', accuracy * 100)\n",
    "print(classification_report(Y_test,predicted_classes))"
   ]
  },
  {
   "cell_type": "markdown",
   "id": "vDaqnD5TcL8c",
   "metadata": {
    "id": "vDaqnD5TcL8c"
   },
   "source": [
    "Maintenant que nous avons trouvé un meilleur modèle qui se focalise sur la reduction du biais, nous allons chercher les hyperparamètres optimaux de notre modèle et vérifier avec la *cross validation* si notre modèle est robuste.\n",
    "\n",
    "Pour cela, nous utilisons `GridSearchCV` pour les hyperparamètres et `cross_val_score` pour tester la robustesse de notre modèle avec la métrique précision.\n"
   ]
  },
  {
   "cell_type": "code",
   "execution_count": null,
   "id": "LwzZQoulcOWj",
   "metadata": {
    "colab": {
     "base_uri": "https://localhost:8080/"
    },
    "id": "LwzZQoulcOWj",
    "outputId": "6b888394-c8e8-4878-adc9-46346c81e27f"
   },
   "outputs": [],
   "source": [
    "param_grid = {\n",
    "  'max_depth':[2, 3, 4], \n",
    "  'eta': [0.1, 0.2, 0.3], \n",
    "  'objective':['binary:logistic'],\n",
    "  'n_estimators': [100, 200, 300],\n",
    "  'learning_rate': [0.1, 0.05],\n",
    "  'gamma': [0.1]\n",
    "}\n",
    "\n",
    "grid = GridSearchCV(xgb.XGBClassifier(), param_grid, cv=5)\n",
    "grid.fit(X_train, Y_train)"
   ]
  },
  {
   "cell_type": "code",
   "execution_count": null,
   "id": "SSP7-k--dLT1",
   "metadata": {
    "colab": {
     "base_uri": "https://localhost:8080/"
    },
    "id": "SSP7-k--dLT1",
    "outputId": "5cd12f1f-fcc9-4d45-8a2c-020e92735e8e"
   },
   "outputs": [],
   "source": [
    "print(grid.best_params_)\n",
    "model = grid.best_estimator_"
   ]
  },
  {
   "cell_type": "markdown",
   "id": "XbjQbNoSy_G2",
   "metadata": {
    "id": "XbjQbNoSy_G2"
   },
   "source": [
    "Avec cette optimisation, nous avons gagné 1% de précision."
   ]
  },
  {
   "cell_type": "code",
   "execution_count": null,
   "id": "Ceb3uzVDpteV",
   "metadata": {
    "colab": {
     "base_uri": "https://localhost:8080/"
    },
    "id": "Ceb3uzVDpteV",
    "outputId": "2a459d98-f013-45ec-dd65-36a3215cfd9a"
   },
   "outputs": [],
   "source": [
    "predicted_classes = model.predict(X_test)\n",
    "accuracy = accuracy_score(Y_test,predicted_classes)\n",
    "\n",
    "print('Accuracy (%): ', accuracy * 100)\n",
    "print(classification_report(Y_test,predicted_classes))"
   ]
  },
  {
   "cell_type": "markdown",
   "id": "CQmw7-7PrxvH",
   "metadata": {
    "id": "CQmw7-7PrxvH"
   },
   "source": [
    "### Cross validation des données\n",
    "\n",
    "On remarque qu'on obtient la même précision qu'avec le test set, nous pouvons donc conclure que notre modèle est donc bien robuste !"
   ]
  },
  {
   "cell_type": "code",
   "execution_count": null,
   "id": "LPV7nkn8r05d",
   "metadata": {
    "colab": {
     "base_uri": "https://localhost:8080/"
    },
    "id": "LPV7nkn8r05d",
    "outputId": "850616a4-7d90-4236-93d4-34b4440a14cc"
   },
   "outputs": [],
   "source": [
    "scores = cross_val_score(model, X_train, Y_train, cv=5, scoring='accuracy')\n",
    "scores.mean()"
   ]
  },
  {
   "cell_type": "markdown",
   "id": "gkAg_wLTHoIs",
   "metadata": {
    "id": "gkAg_wLTHoIs"
   },
   "source": [
    "## Compte rendu de l'étude \"Historique olympique\"\n",
    "\n",
    "### Quelle problématique globale avez-vous identifié/choisi ?\n",
    "\n",
    "Nous avons d'abord choisi de **prédire avec la taille, le poids, l'âge et le sexe d'une personne, son sport de prédilection** puis, au vue des résultats que nous avons obtenu, nous avons changé la problématique pour **prédire si la personne est faite pour un sport individuel ou collectif**.\n",
    "\n",
    "### Quels problèmes avez-vous rencontré avec les données ? Quelles explorations en conséquence ?\n",
    "\n",
    "Premièrement, nous avons voulu supprimer tous les vecteurs qui avaient un *NaN* dans leurs colonnes. Cependant, nous n'avons pas enlevé les vecteurs sans médaille car nous perdisons beaucoup trop d'informations. Nous avons donc supprimé les *NaN* des vecteurs ayant pour colonnes l'âge, la taille et le poids.\n",
    "\n",
    "Aussi, nous avons eu du mal à trouver les bons encodages pour certaines colonnes et avons finalement encoder que le sexe. Nous avons tenté d'encoder l'âge avec One Hot mais cela ne changeait pas les performances de notre modèle. De plus, nous avons tenté l'encodage One Hot sur les équipes et les sports, mais cela n'a eu que pour effet de créer un trop grand nombre colonnes et a réduit drastiquement les performances de nos modèles.\n",
    "\n",
    "Enfin, dans nos observations, nous n'avons pas pu établir de correlation entre le type de sport et les autres attributs. En outre, nous avons remarqué que la taille et le poids étaient liés.\n",
    "\n",
    "### Quel(s) modèle(s) avez-vous choisi ? Pourquoi ?\n",
    "\n",
    "Nous sommes d'abord partis sur un modèle KNeighborsClassifier pour sa simplicité de compréhension. Nous avons remarqué un sur-apprentissage par une chute de performances entre la phase d'entraînement et de test. Nous avons donc changé les hyperparamètres des voisins en fonction du nombre de colonnes pour que le modèle se comporte correctement mais cela n'a pas réussi.\n",
    "\n",
    "Pour palier à cela, nous avons choisi un autre modèle de classification AdaBoostClassifier, sans succès. Nous sommes donc revenus sur le KNeighborsClassifier avec une encodage One Hot pour minimiser les relations d'ordre. Cela a eu pour conséquences d'augmenter le temps de calcul du modèle et de réduire sa performance.\n",
    "\n",
    "Nous avons donc décidé d'utiliser le RandomForestClassifier se basant sur les arbres pour minimiser la variance, et l'encodage numérique pour réduire le nombre de colonnes. En effet, nous avons noté une augmentation des performances par rapport aux autres modèles.  \n",
    "\n",
    "Suite aux bonnes performances de ce genre de modèle, nous avons decidé de prendre un autre modèle d'arbre pour comparer leurs performances. Nous avons choisi xgBoost qui lui, travaille sur la reduction du biais. En utilisant le même dataset que pour les Random Forest, nous avons gagné 1% et avec les optimisations, nous avons gagné à nouveau 1%, soit un gain total de 2% entre les deux modèles.\n",
    "Nous avons verfié la robustesse de notre modèle xgBoost en utilisant la crossValidation de `GridSearchCV`, avec succès. \n",
    "\n",
    "## Critiques\n",
    "\n",
    "Nous pouvons bien évidemment augmenter encore ce pourcentage avec un protocole d'optimisation plus rigoureux, mais, la priorité est les données, et elles sont encore soumises à un biais énorme. \n",
    " - Les données sont-elles correcte ?\n",
    " - Pouvons-nous réellement prédire des comportements avec les informations données ?\n",
    " - Des sports risquent d'être retirés ou ajoutés\n",
    " - Les femmes n'on pas commencé les JO en même temps que les hommes\n",
    " - Il y a deux types de Jeux Olympiques avec des sports différents\n",
    " - Il y a plus de sports individuels que collectifs\n",
    "\n",
    "Il est donc judicieux de nuancer notre travail à travers tous ces biais et de se concentrer sur la méthodologie de notre travail.\n",
    "\n",
    "\n",
    "\n",
    "\n",
    "\n",
    "\n",
    "  "
   ]
  }
 ],
 "metadata": {
  "colab": {
   "collapsed_sections": [],
   "name": "olympic_games_analysis.ipynb",
   "provenance": []
  },
  "kernelspec": {
   "display_name": "Python 3",
   "language": "python",
   "name": "python3"
  },
  "language_info": {
   "codemirror_mode": {
    "name": "ipython",
    "version": 3
   },
   "file_extension": ".py",
   "mimetype": "text/x-python",
   "name": "python",
   "nbconvert_exporter": "python",
   "pygments_lexer": "ipython3",
   "version": "3.8.8"
  }
 },
 "nbformat": 4,
 "nbformat_minor": 5
}
