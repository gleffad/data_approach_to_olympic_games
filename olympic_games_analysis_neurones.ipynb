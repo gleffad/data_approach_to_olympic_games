{
 "cells": [
  {
   "cell_type": "code",
   "execution_count": 38,
   "metadata": {
    "id": "EIwmdWZNn-Lu"
   },
   "outputs": [],
   "source": [
    "from keras.models import Sequential\n",
    "from keras.layers import Dense\n",
    "from keras.optimizers import Adam\n",
    "from keras.callbacks import EarlyStopping\n",
    "\n",
    "import pandas as pd\n",
    "import numpy as np\n",
    "import matplotlib.pyplot as plt\n",
    "import time\n",
    "\n",
    "from sklearn.metrics import classification_report, accuracy_score\n",
    "from sklearn.preprocessing import LabelEncoder, OneHotEncoder, StandardScaler\n",
    "from sklearn.model_selection import train_test_split\n",
    "from sklearn import model_selection"
   ]
  },
  {
   "cell_type": "markdown",
   "metadata": {
    "id": "gaBk9Scg3q-y"
   },
   "source": [
    "### Test avec des réseaux de neurones\n",
    "\n",
    "Nous allons préparer notre dataset pour travailler avec des réseaux de neurones. Nous allons effectuer le même traitement des données qu'avec xgBoost mais avec une normalisation.\n",
    "\n",
    "1. Enlève les vecteur avec des NaN dans les colones Age, Height, Weight\n",
    "2. Filtre les valeurs abérente\n",
    "3. On encode le Sex et le type de sport (équie, individuel)\n",
    "4. On construit un test set et un train set\n",
    "5. On normalise les jeux de données\n",
    "\n"
   ]
  },
  {
   "cell_type": "code",
   "execution_count": 132,
   "metadata": {
    "id": "2tpHT-YroJ86"
   },
   "outputs": [],
   "source": [
    "# Charge les données\n",
    "df_events = pd.read_csv(\"athlete_events.csv\", index_col='ID')\n",
    "df_events.head()\n",
    "\n",
    "# Supprimer les vecteurs ou il manque des valeurs et supprime les valeurs abérante\n",
    "df_events.dropna(inplace=True, subset=['Age', 'Height', 'Weight'])\n",
    "df_events = df_events[(df_events['Age'] < 85) & (df_events['Weight'] < 200)]\n",
    "\n",
    "# Supprimer les colonles inutiles\n",
    "X = df_events.drop(['Name', 'NOC', 'Games', 'Year', 'Season', 'City', 'Event', 'Sport', 'Team', 'Medal'], axis=1)\n",
    "Y = df_events['Sport']\n",
    "       \n",
    "# Encode le Sex\n",
    "label_encoder_sex = LabelEncoder()\n",
    "X['Sex'] = label_encoder_sex.fit_transform(X['Sex'])\n",
    "\n",
    "# Encode le Sport\n",
    "sports = df_events.Sport.values.tolist()                                    # get sport value\n",
    "sports = list(dict.fromkeys(sports))                                        # delete doublons \n",
    "sport_dictionary = dict.fromkeys(sports, 0)                                 # tranform to dict\n",
    "\n",
    "def sport_to_group(sport):\n",
    "    return {\n",
    "     'Basketball': 1,\n",
    "     'Judo': 0,\n",
    "     'Football': 1,\n",
    "     'Tug-Of-War': 1,\n",
    "     'Speed Skating': 0,\n",
    "     'Cross Country Skiing': 0,\n",
    "     'Athletics': 0,\n",
    "     'Ice Hockey': 1,\n",
    "     'Swimming': 0,\n",
    "     'Badminton': 0,\n",
    "     'Sailing': 1,\n",
    "     'Biathlon': 0,\n",
    "     'Gymnastics': 0,\n",
    "     'Art Competitions': 0,\n",
    "     'Alpine Skiing': 0,\n",
    "     'Handball': 1,\n",
    "     'Weightlifting': 0,\n",
    "     'Wrestling': 0,\n",
    "     'Luge': 0,\n",
    "     'Water Polo': 1,\n",
    "     'Hockey': 1,\n",
    "     'Rowing': 1,\n",
    "     'Bobsleigh': 1,\n",
    "     'Fencing': 0,\n",
    "     'Equestrianism': 0,\n",
    "     'Shooting': 0,\n",
    "     'Boxing': 0,\n",
    "     'Taekwondo': 0,\n",
    "     'Cycling': 0,\n",
    "     'Diving': 0,\n",
    "     'Canoeing': 0,\n",
    "     'Tennis': 0,\n",
    "     'Modern Pentathlon': 0,\n",
    "     'Figure Skating': 0,\n",
    "     'Golf': 0,\n",
    "     'Softball': 1,\n",
    "     'Archery': 0,\n",
    "     'Volleyball': 1,\n",
    "     'Synchronized Swimming': 1,\n",
    "     'Table Tennis': 0,\n",
    "     'Nordic Combined': 0,\n",
    "     'Baseball': 1,\n",
    "     'Rhythmic Gymnastics': 0,\n",
    "     'Freestyle Skiing': 0,\n",
    "     'Rugby Sevens': 1,\n",
    "     'Trampolining': 0,\n",
    "     'Beach Volleyball': 1,\n",
    "     'Triathlon': 0,\n",
    "     'Ski Jumping': 0,\n",
    "     'Curling': 1,\n",
    "     'Snowboarding': 0,\n",
    "     'Rugby': 1,\n",
    "     'Short Track Speed Skating': 0,\n",
    "     'Skeleton': 0,\n",
    "     'Lacrosse': 1,\n",
    "     'Polo': 1,\n",
    "     'Cricket': 1,\n",
    "     'Racquets': 0,\n",
    "     'Motorboating': 0,\n",
    "     'Military Ski Patrol': 0,\n",
    "     'Croquet': 0,\n",
    "     'Jeu De Paume': 0,\n",
    "     'Roque': 0,\n",
    "     'Alpinism': 0,\n",
    "     'Basque Pelota': 1,\n",
    "     'Aeronautics': 0\n",
    "    }[sport]\n",
    "\n",
    "\n",
    "# On encode le sport\n",
    "Y = Y.apply(sport_to_group)\n",
    "\n",
    "# Prépare le test set et le train set\n",
    "X_train, X_test, Y_train_lb, Y_test_lb = train_test_split(X, Y, test_size=0.3, random_state=34)\n",
    "\n",
    "# Augmente la précision pour le réseau de neurone \n",
    "X_train = X_train.astype('float64')\n",
    "X_test = X_test.astype('float64')\n",
    "\n",
    "# On normalise les dataset\n",
    "sc_X = StandardScaler()\n",
    "X_train = sc_X.fit_transform(X_train)\n",
    "X_test = sc_X.transform(X_test)"
   ]
  },
  {
   "cell_type": "markdown",
   "metadata": {
    "id": "qM9z4JYod1T6"
   },
   "source": [
    "Une fois que nos données ont été néttoyées et normalisées nous créons notre premier model et la façon de l'entrainer. Nous avons pris des valeurs aléatoires pour commencer à construire notre réseau."
   ]
  },
  {
   "cell_type": "code",
   "execution_count": 138,
   "metadata": {
    "id": "HoZwOCgfqxd5"
   },
   "outputs": [],
   "source": [
    "# Une fonction pour définir le modèle\n",
    "def model_def(input_dim, summary=False):\n",
    "    model = Sequential()\n",
    "    model.add(Dense(1, activation='sigmoid', input_shape=(input_dim,)))\n",
    "    model.compile(optimizer=Adam(), loss='binary_crossentropy', metrics=['accuracy'])\n",
    "    if summary: model.summary()\n",
    "    return model\n",
    "\n",
    "# On construit une fonction réunissant les notions concernant l'apprentissage\n",
    "def app_model(model, X_train, Y_train, X_test, Y_test, bc=64, e=50):\n",
    "    h = model.fit(X_train, Y_train, validation_data=(X_test, Y_test), verbose=0, batch_size=bc, epochs=e, shuffle='True')\n",
    "    return h"
   ]
  },
  {
   "cell_type": "code",
   "execution_count": 139,
   "metadata": {
    "colab": {
     "base_uri": "https://localhost:8080/"
    },
    "id": "gza7bbOkqzsI",
    "outputId": "493d98ff-ff37-432b-ca4b-06acba1137a5"
   },
   "outputs": [
    {
     "name": "stdout",
     "output_type": "stream",
     "text": [
      "--- 202.55333924293518 seconds ---\n"
     ]
    }
   ],
   "source": [
    "# On procède à l'entraînement !\n",
    "start_time = time.time()\n",
    "\n",
    "m = model_def(X_train.shape[1])\n",
    "history = app_model(m, X_train, Y_train_lb, X_test, Y_test_lb)\n",
    "print(\"--- %s seconds ---\" % (time.time() - start_time))"
   ]
  },
  {
   "cell_type": "code",
   "execution_count": 122,
   "metadata": {
    "colab": {
     "base_uri": "https://localhost:8080/"
    },
    "id": "L6k-rYG2q15z",
    "outputId": "94226aa0-44b3-4f9d-b606-345e7414192b"
   },
   "outputs": [
    {
     "name": "stdout",
     "output_type": "stream",
     "text": [
      "Test rmse:  0.681262351282827\n",
      "Test mae:  0.7926563024520874\n",
      "Accuracy (%):  79.2656308105224\n",
      "              precision    recall  f1-score   support\n",
      "\n",
      "           0       0.80      0.98      0.88     48451\n",
      "           1       0.60      0.13      0.22     13398\n",
      "\n",
      "    accuracy                           0.79     61849\n",
      "   macro avg       0.70      0.55      0.55     61849\n",
      "weighted avg       0.76      0.79      0.74     61849\n",
      "\n"
     ]
    }
   ],
   "source": [
    "# On procède à l'évaluation\n",
    "score = m.evaluate(X_test, Y_test_lb, verbose=0)\n",
    "print('Test rmse: ', np.sqrt(score[0]))\n",
    "print('Test mae: ', score[1])\n",
    "\n",
    "predicted_classes = np.vectorize(lambda x: 0 if x < 0.5 else 1)(m.predict(X_test))\n",
    "accuracy = accuracy_score(Y_test_lb,predicted_classes)\n",
    "\n",
    "print('Accuracy (%): ', accuracy * 100)\n",
    "\n",
    "print(classification_report(Y_test_lb,predicted_classes))"
   ]
  },
  {
   "cell_type": "markdown",
   "metadata": {
    "id": "fl9LwwvHwD23"
   },
   "source": [
    "Pour un premier essais nous obtenons une bonne précision. Maintenant notre but principal est de trouver les meilleurs hyperparamètres. Pour cela, il nous faut visualiser nos derniers résultats."
   ]
  },
  {
   "cell_type": "code",
   "execution_count": 125,
   "metadata": {
    "colab": {
     "base_uri": "https://localhost:8080/",
     "height": 444
    },
    "id": "QzXMC8mbv5os",
    "outputId": "de33fd92-f775-4071-f2cc-49aca02d1675"
   },
   "outputs": [
    {
     "data": {
      "image/png": "[encoded data removed]",
      "text/plain": [
       "<Figure size 1008x504 with 1 Axes>"
      ]
     },
     "metadata": {
      "needs_background": "light",
      "tags": []
     },
     "output_type": "display_data"
    }
   ],
   "source": [
    "# On visualise l'apprentissage et le test\n",
    "plt.figure(figsize=(14,7))\n",
    "I = range(50)\n",
    "plt.plot(I, history.history['accuracy'], color=\"green\", label=\"Train\")\n",
    "plt.plot(I, history.history['val_accuracy'], color=\"red\", label=\"Test\")\n",
    "plt.xlabel(\"Epochs\")\n",
    "plt.ylabel(\"Accuracy\")\n",
    "plt.legend()\n",
    "plt.show()"
   ]
  },
  {
   "cell_type": "markdown",
   "metadata": {
    "id": "-EeAUwaeo9V6"
   },
   "source": [
    "On remarque tout de suite qu'au bout de 5 epoch il n'apprend plus rien, on va donc lui ajouter un early stopting pour lui dire que si il apprend plus rien au bout de 5 epoch, cela ne sert à rien de continuer."
   ]
  },
  {
   "cell_type": "code",
   "execution_count": 136,
   "metadata": {
    "id": "rlKdewqJv_R0"
   },
   "outputs": [],
   "source": [
    "# On construit une fonction réunissant les notions concernant l'apprentissage\n",
    "def app_model(model, X_train, Y_train, X_test, Y_test, bc=64, e=50):\n",
    "    h = model.fit(\n",
    "        X_train, \n",
    "        Y_train, \n",
    "        validation_data=(X_test, Y_test), \n",
    "        verbose=0, \n",
    "        batch_size=bc, \n",
    "        epochs=e, \n",
    "        shuffle='True',\n",
    "        callbacks = [EarlyStopping(monitor='val_loss', patience=3, verbose=0)]\n",
    "    )\n",
    "    return h"
   ]
  },
  {
   "cell_type": "markdown",
   "metadata": {
    "id": "ZabV8MG4fqDu"
   },
   "source": [
    "### On passe de 3min a 19s de temps de calcule\n",
    "\n",
    "- cela ne sert à rien de changer epoch car il converge très vite\n",
    "- on peux test le batch maintenant\n",
    "\n",
    "Nous avons deux options pour commencer qui consistent à agir sur 2 hyperparametre epoch et le batch. Vue que notre model converge très vite nous allons garder notre epoch à 50, en revanche, nous allons tester pour différentes valeures de batch le résultat."
   ]
  },
  {
   "cell_type": "code",
   "execution_count": 137,
   "metadata": {
    "colab": {
     "base_uri": "https://localhost:8080/"
    },
    "id": "uwAgsSqi0SAQ",
    "outputId": "e6f7842e-69d9-43ff-9bdc-d19388dbd166"
   },
   "outputs": [
    {
     "name": "stdout",
     "output_type": "stream",
     "text": [
      "--- 18.92765760421753 seconds ---\n"
     ]
    }
   ],
   "source": [
    "# On procède à l'entraînement !\n",
    "start_time = time.time()\n",
    "\n",
    "m = model_def(X_train.shape[1])\n",
    "history = app_model(m, X_train, Y_train_lb, X_test, Y_test_lb)\n",
    "\n",
    "print(\"--- %s seconds ---\" % (time.time() - start_time))"
   ]
  },
  {
   "cell_type": "markdown",
   "metadata": {
    "id": "zdcP5f_MmNvf"
   },
   "source": [
    "Nous allons tester plusieurs batch possible."
   ]
  },
  {
   "cell_type": "code",
   "execution_count": 54,
   "metadata": {
    "id": "VmSKzKcM0egX"
   },
   "outputs": [],
   "source": [
    "preci = []\n",
    "for i in range(6, 15):\n",
    "  m = model_def(X_train.shape[1])\n",
    "  history = app_model(m, X_train, Y_train_lb, X_test, Y_test_lb, bc=2**i)\n",
    "  score = m.evaluate(X_test, Y_test_lb, verbose=0)\n",
    "  predicted_classes = np.vectorize(lambda x: 0 if x < 0.5 else 1)(m.predict(X_test))\n",
    "  accuracy = accuracy_score(Y_test_lb,predicted_classes)\n",
    "  preci.append((2**i,accuracy * 100))"
   ]
  },
  {
   "cell_type": "markdown",
   "metadata": {
    "id": "OVlVvK3KOZwm"
   },
   "source": [
    "On remarque que entre 64 et 4096 batch il n'y pas grande différence de performance. Nous allons donc choisir 2096 car c'est lui qui a la plus garde précision. Il ne nous reste plus qu'a bien agencer nos neurones.\n",
    "\n"
   ]
  },
  {
   "cell_type": "code",
   "execution_count": 67,
   "metadata": {
    "colab": {
     "base_uri": "https://localhost:8080/"
    },
    "id": "QcSmsehU2QcM",
    "outputId": "d387026c-9628-47d9-ed6d-21469f878e33"
   },
   "outputs": [
    {
     "data": {
      "text/plain": [
       "[(64, 79.26239712849036),\n",
       " (128, 79.28988342576274),\n",
       " (256, 79.28503290271468),\n",
       " (512, 79.30120131287491),\n",
       " (1024, 79.25431292341024),\n",
       " (2048, 79.36102443046775),\n",
       " (4096, 79.27694869763457),\n",
       " (8192, 77.87353069572669),\n",
       " (16384, 77.21547640220537)]"
      ]
     },
     "execution_count": 67,
     "metadata": {
      "tags": []
     },
     "output_type": "execute_result"
    }
   ],
   "source": [
    "preci"
   ]
  },
  {
   "cell_type": "markdown",
   "metadata": {
    "id": "5p9Lr02bmk1B"
   },
   "source": [
    "Nous avons testé plusieurs configurations de neurones possibles, et nous n'avons pas trouvé d'agencement qui dépassais les 81%. Nous nous heurtons donc aux mêmes limites que avec la régression nous n'avons pas assez d'inforation sur les sportifs pour pouvoir trancher efficacement."
   ]
  },
  {
   "cell_type": "code",
   "execution_count": 126,
   "metadata": {
    "id": "k1ynVgB0PooW"
   },
   "outputs": [],
   "source": [
    "# Une fonction pour définir le modèle\n",
    "def model_def(input_dim, summary=False):\n",
    "    model = Sequential()\n",
    "    model.add(Dense(8, activation='tanh', input_shape=(input_dim,)))\n",
    "    model.add(Dense(16, activation='tanh'))\n",
    "    model.add(Dense(32, activation='tanh'))\n",
    "    model.add(Dense(32, activation='tanh'))\n",
    "    model.add(Dense(16, activation='tanh'))\n",
    "    model.add(Dense(1, activation='sigmoid'))\n",
    "    model.compile(optimizer=Adam(), loss='binary_crossentropy', metrics=['accuracy'])\n",
    "    if summary: model.summary()\n",
    "    return model"
   ]
  },
  {
   "cell_type": "code",
   "execution_count": 127,
   "metadata": {
    "id": "Ol_OsZ4XRzgH"
   },
   "outputs": [],
   "source": [
    "# On procède à l'entraînement !\n",
    "m = model_def(X_train.shape[1])\n",
    "history = app_model(m, X_train, Y_train_lb, X_test, Y_test_lb)"
   ]
  },
  {
   "cell_type": "code",
   "execution_count": 129,
   "metadata": {
    "colab": {
     "base_uri": "https://localhost:8080/"
    },
    "id": "mT29QDIJR5Dd",
    "outputId": "6cdd93fe-2c82-439c-9524-bef6394e6e7b"
   },
   "outputs": [
    {
     "name": "stdout",
     "output_type": "stream",
     "text": [
      "Test rmse:  0.6577444317682403\n",
      "Test mae:  0.8109427690505981\n",
      "Accuracy (%):  81.09427799964429\n",
      "              precision    recall  f1-score   support\n",
      "\n",
      "           0       0.82      0.97      0.89     48451\n",
      "           1       0.69      0.23      0.35     13398\n",
      "\n",
      "    accuracy                           0.81     61849\n",
      "   macro avg       0.75      0.60      0.62     61849\n",
      "weighted avg       0.79      0.81      0.77     61849\n",
      "\n"
     ]
    }
   ],
   "source": [
    "score = m.evaluate(X_test, Y_test_lb, verbose=0)\n",
    "print('Test rmse: ', np.sqrt(score[0]))\n",
    "print('Test mae: ', score[1])\n",
    "\n",
    "predicted_classes = np.vectorize(lambda x: 0 if x < 0.5 else 1)(m.predict(X_test))\n",
    "accuracy = accuracy_score(Y_test_lb,predicted_classes)\n",
    "\n",
    "print('Accuracy (%): ', accuracy * 100)\n",
    "\n",
    "print(classification_report(Y_test_lb,predicted_classes))"
   ]
  },
  {
   "cell_type": "markdown",
   "metadata": {
    "id": "lKOJ_0MtrmWv"
   },
   "source": [
    "Nous pouvons constater que le réseau de neurones est légèrement moins pérformant qu'un model classique."
   ]
  },
  {
   "cell_type": "code",
   "execution_count": null,
   "metadata": {
    "id": "MNiGoNDXru0x"
   },
   "outputs": [],
   "source": []
  }
 ],
 "metadata": {
  "colab": {
   "collapsed_sections": [],
   "name": "Untitled0.ipynb",
   "provenance": []
  },
  "kernelspec": {
   "display_name": "Python 3",
   "language": "python",
   "name": "python3"
  },
  "language_info": {
   "codemirror_mode": {
    "name": "ipython",
    "version": 3
   },
   "file_extension": ".py",
   "mimetype": "text/x-python",
   "name": "python",
   "nbconvert_exporter": "python",
   "pygments_lexer": "ipython3",
   "version": "3.8.8"
  }
 },
 "nbformat": 4,
 "nbformat_minor": 1
}
